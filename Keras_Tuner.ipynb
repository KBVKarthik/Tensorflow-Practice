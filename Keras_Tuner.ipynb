{
  "nbformat": 4,
  "nbformat_minor": 0,
  "metadata": {
    "colab": {
      "name": "Keras_Tuner.ipynb",
      "provenance": [],
      "authorship_tag": "ABX9TyOFk+vTJCAbV4gRqZhuRYE0",
      "include_colab_link": true
    },
    "kernelspec": {
      "name": "python3",
      "display_name": "Python 3"
    },
    "language_info": {
      "name": "python"
    }
  },
  "cells": [
    {
      "cell_type": "markdown",
      "metadata": {
        "id": "view-in-github",
        "colab_type": "text"
      },
      "source": [
        "<a href=\"https://colab.research.google.com/github/KBVKarthik/Tensorflow-Practice/blob/main/Keras_Tuner.ipynb\" target=\"_parent\"><img src=\"https://colab.research.google.com/assets/colab-badge.svg\" alt=\"Open In Colab\"/></a>"
      ]
    },
    {
      "cell_type": "code",
      "metadata": {
        "id": "fXe-Dac6lTfv"
      },
      "source": [
        "import tensorflow as tf\n",
        "from tensorflow import keras"
      ],
      "execution_count": 129,
      "outputs": []
    },
    {
      "cell_type": "code",
      "metadata": {
        "colab": {
          "base_uri": "https://localhost:8080/"
        },
        "id": "Z5C0kXs3lbnt",
        "outputId": "951eeb52-87c0-4eff-b0d5-21ba55f6c0c2"
      },
      "source": [
        "!pip install -q -U keras-tuner"
      ],
      "execution_count": 130,
      "outputs": [
        {
          "output_type": "stream",
          "text": [
            "\u001b[?25l\r\u001b[K     |███▍                            | 10 kB 17.7 MB/s eta 0:00:01\r\u001b[K     |██████▉                         | 20 kB 23.9 MB/s eta 0:00:01\r\u001b[K     |██████████▏                     | 30 kB 12.6 MB/s eta 0:00:01\r\u001b[K     |█████████████▋                  | 40 kB 10.2 MB/s eta 0:00:01\r\u001b[K     |█████████████████               | 51 kB 5.5 MB/s eta 0:00:01\r\u001b[K     |████████████████████▍           | 61 kB 6.0 MB/s eta 0:00:01\r\u001b[K     |███████████████████████▊        | 71 kB 5.8 MB/s eta 0:00:01\r\u001b[K     |███████████████████████████▏    | 81 kB 6.4 MB/s eta 0:00:01\r\u001b[K     |██████████████████████████████▋ | 92 kB 6.6 MB/s eta 0:00:01\r\u001b[K     |████████████████████████████████| 96 kB 2.7 MB/s \n",
            "\u001b[?25h  Building wheel for kt-legacy (setup.py) ... \u001b[?25l\u001b[?25hdone\n"
          ],
          "name": "stdout"
        }
      ]
    },
    {
      "cell_type": "code",
      "metadata": {
        "id": "qsSvBDwVldKy"
      },
      "source": [
        "import keras_tuner as kt"
      ],
      "execution_count": 131,
      "outputs": []
    },
    {
      "cell_type": "code",
      "metadata": {
        "colab": {
          "base_uri": "https://localhost:8080/"
        },
        "id": "byDLlksSleub",
        "outputId": "091e580f-b88c-42be-8547-be2450220c4c"
      },
      "source": [
        "(img_train, label_train), (img_test, label_test) = keras.datasets.fashion_mnist.load_data()"
      ],
      "execution_count": 132,
      "outputs": [
        {
          "output_type": "stream",
          "text": [
            "Downloading data from https://storage.googleapis.com/tensorflow/tf-keras-datasets/train-labels-idx1-ubyte.gz\n",
            "32768/29515 [=================================] - 0s 0us/step\n",
            "Downloading data from https://storage.googleapis.com/tensorflow/tf-keras-datasets/train-images-idx3-ubyte.gz\n",
            "26427392/26421880 [==============================] - 0s 0us/step\n",
            "Downloading data from https://storage.googleapis.com/tensorflow/tf-keras-datasets/t10k-labels-idx1-ubyte.gz\n",
            "8192/5148 [===============================================] - 0s 0us/step\n",
            "Downloading data from https://storage.googleapis.com/tensorflow/tf-keras-datasets/t10k-images-idx3-ubyte.gz\n",
            "4423680/4422102 [==============================] - 0s 0us/step\n"
          ],
          "name": "stdout"
        }
      ]
    },
    {
      "cell_type": "code",
      "metadata": {
        "id": "UUSOBxyvlgWm"
      },
      "source": [
        "img_train = img_train.astype('float32') / 255.0\n",
        "img_test = img_test.astype('float32') / 255.0"
      ],
      "execution_count": 133,
      "outputs": []
    },
    {
      "cell_type": "code",
      "metadata": {
        "id": "ViSdsxPhlh4-"
      },
      "source": [
        "def model_builder(hp):\n",
        "  model = keras.Sequential()\n",
        "  model.add(keras.layers.Flatten(input_shape=(28, 28)))\n",
        "\n",
        "  hp_units = hp.Int('units', min_value=32, max_value=512, step=32)\n",
        "  model.add(keras.layers.Dense(units=hp_units, activation='relu'))\n",
        "  model.add(keras.layers.Dense(10))\n",
        "\n",
        "\n",
        "  hp_learning_rate = hp.Choice('learning_rate', values=[1e-2, 1e-3, 1e-4])\n",
        "\n",
        "  model.compile(optimizer=keras.optimizers.Adam(learning_rate=hp_learning_rate),\n",
        "                loss=keras.losses.SparseCategoricalCrossentropy(from_logits=True),\n",
        "                metrics=['accuracy'])\n",
        "\n",
        "  return model"
      ],
      "execution_count": 134,
      "outputs": []
    },
    {
      "cell_type": "code",
      "metadata": {
        "colab": {
          "base_uri": "https://localhost:8080/"
        },
        "id": "C5LexQBLlmOL",
        "outputId": "692b0534-85b2-4000-e07f-8ad010307d9b"
      },
      "source": [
        "tuner = kt.Hyperband(model_builder,\n",
        "                     objective='val_accuracy',\n",
        "                     max_epochs=10,\n",
        "                     factor=3,\n",
        "                     directory='my_dir',\n",
        "                     project_name='intro_to_kt')"
      ],
      "execution_count": 135,
      "outputs": [
        {
          "output_type": "stream",
          "text": [
            "WARNING:tensorflow:Unresolved object in checkpoint: (root).optimizer.iter\n"
          ],
          "name": "stdout"
        },
        {
          "output_type": "stream",
          "text": [
            "WARNING:tensorflow:Unresolved object in checkpoint: (root).optimizer.iter\n"
          ],
          "name": "stderr"
        },
        {
          "output_type": "stream",
          "text": [
            "WARNING:tensorflow:Unresolved object in checkpoint: (root).optimizer.beta_1\n"
          ],
          "name": "stdout"
        },
        {
          "output_type": "stream",
          "text": [
            "WARNING:tensorflow:Unresolved object in checkpoint: (root).optimizer.beta_1\n"
          ],
          "name": "stderr"
        },
        {
          "output_type": "stream",
          "text": [
            "WARNING:tensorflow:Unresolved object in checkpoint: (root).optimizer.beta_2\n"
          ],
          "name": "stdout"
        },
        {
          "output_type": "stream",
          "text": [
            "WARNING:tensorflow:Unresolved object in checkpoint: (root).optimizer.beta_2\n"
          ],
          "name": "stderr"
        },
        {
          "output_type": "stream",
          "text": [
            "WARNING:tensorflow:Unresolved object in checkpoint: (root).optimizer.decay\n"
          ],
          "name": "stdout"
        },
        {
          "output_type": "stream",
          "text": [
            "WARNING:tensorflow:Unresolved object in checkpoint: (root).optimizer.decay\n"
          ],
          "name": "stderr"
        },
        {
          "output_type": "stream",
          "text": [
            "WARNING:tensorflow:Unresolved object in checkpoint: (root).optimizer.learning_rate\n"
          ],
          "name": "stdout"
        },
        {
          "output_type": "stream",
          "text": [
            "WARNING:tensorflow:Unresolved object in checkpoint: (root).optimizer.learning_rate\n"
          ],
          "name": "stderr"
        },
        {
          "output_type": "stream",
          "text": [
            "WARNING:tensorflow:A checkpoint was restored (e.g. tf.train.Checkpoint.restore or tf.keras.Model.load_weights) but not all checkpointed values were used. See above for specific issues. Use expect_partial() on the load status object, e.g. tf.train.Checkpoint.restore(...).expect_partial(), to silence these warnings, or use assert_consumed() to make the check explicit. See https://www.tensorflow.org/guide/checkpoint#loading_mechanics for details.\n"
          ],
          "name": "stdout"
        },
        {
          "output_type": "stream",
          "text": [
            "WARNING:tensorflow:A checkpoint was restored (e.g. tf.train.Checkpoint.restore or tf.keras.Model.load_weights) but not all checkpointed values were used. See above for specific issues. Use expect_partial() on the load status object, e.g. tf.train.Checkpoint.restore(...).expect_partial(), to silence these warnings, or use assert_consumed() to make the check explicit. See https://www.tensorflow.org/guide/checkpoint#loading_mechanics for details.\n"
          ],
          "name": "stderr"
        }
      ]
    },
    {
      "cell_type": "code",
      "metadata": {
        "id": "RhH_E33HloAM"
      },
      "source": [
        "stop_early = tf.keras.callbacks.EarlyStopping(monitor='val_loss', patience=5)"
      ],
      "execution_count": 136,
      "outputs": []
    },
    {
      "cell_type": "code",
      "metadata": {
        "colab": {
          "base_uri": "https://localhost:8080/"
        },
        "id": "47mlXCxolqRE",
        "outputId": "6dbd5fa6-f76b-4e4c-f8de-c86a9350b3ee"
      },
      "source": [
        "tuner.search(img_train, label_train, epochs=50, validation_split=0.2, callbacks=[stop_early])\n",
        "\n",
        "\n",
        "best_hps=tuner.get_best_hyperparameters(num_trials=1)[0]\n",
        "\n",
        "print(f\"\"\"\n",
        "The hyperparameter search is complete. The optimal number of units in the first densely-connected\n",
        "layer is {best_hps.get('units')} and the optimal learning rate for the optimizer\n",
        "is {best_hps.get('learning_rate')}.\n",
        "\"\"\")"
      ],
      "execution_count": 137,
      "outputs": [
        {
          "output_type": "stream",
          "text": [
            "Trial 30 Complete [00h 00m 53s]\n",
            "val_accuracy: 0.8769999742507935\n",
            "\n",
            "Best val_accuracy So Far: 0.8893333077430725\n",
            "Total elapsed time: 00h 16m 07s\n",
            "INFO:tensorflow:Oracle triggered exit\n"
          ],
          "name": "stdout"
        },
        {
          "output_type": "stream",
          "text": [
            "INFO:tensorflow:Oracle triggered exit\n"
          ],
          "name": "stderr"
        },
        {
          "output_type": "stream",
          "text": [
            "\n",
            "The hyperparameter search is complete. The optimal number of units in the first densely-connected\n",
            "layer is 512 and the optimal learning rate for the optimizer\n",
            "is 0.001.\n",
            "\n"
          ],
          "name": "stdout"
        }
      ]
    },
    {
      "cell_type": "code",
      "metadata": {
        "colab": {
          "base_uri": "https://localhost:8080/"
        },
        "id": "DHkjH-bIltCi",
        "outputId": "6b25d40f-98c0-4e05-c6d4-4a9632f451e7"
      },
      "source": [
        "model = tuner.hypermodel.build(best_hps)\n",
        "history = model.fit(img_train, label_train, epochs=50, validation_split=0.2)\n",
        "\n",
        "val_acc_per_epoch = history.history['val_accuracy']\n",
        "best_epoch = val_acc_per_epoch.index(max(val_acc_per_epoch)) + 1\n",
        "print('Best epoch: %d' % (best_epoch,))"
      ],
      "execution_count": 138,
      "outputs": [
        {
          "output_type": "stream",
          "text": [
            "Epoch 1/50\n",
            "1500/1500 [==============================] - 9s 6ms/step - loss: 0.4922 - accuracy: 0.8233 - val_loss: 0.3886 - val_accuracy: 0.8609\n",
            "Epoch 2/50\n",
            "1500/1500 [==============================] - 9s 6ms/step - loss: 0.3687 - accuracy: 0.8658 - val_loss: 0.3586 - val_accuracy: 0.8681\n",
            "Epoch 3/50\n",
            "1500/1500 [==============================] - 9s 6ms/step - loss: 0.3319 - accuracy: 0.8782 - val_loss: 0.3424 - val_accuracy: 0.8789\n",
            "Epoch 4/50\n",
            "1500/1500 [==============================] - 9s 6ms/step - loss: 0.3055 - accuracy: 0.8878 - val_loss: 0.3402 - val_accuracy: 0.8790\n",
            "Epoch 5/50\n",
            "1500/1500 [==============================] - 9s 6ms/step - loss: 0.2843 - accuracy: 0.8940 - val_loss: 0.3341 - val_accuracy: 0.8821\n",
            "Epoch 6/50\n",
            "1500/1500 [==============================] - 9s 6ms/step - loss: 0.2686 - accuracy: 0.9004 - val_loss: 0.3153 - val_accuracy: 0.8877\n",
            "Epoch 7/50\n",
            "1500/1500 [==============================] - 9s 6ms/step - loss: 0.2549 - accuracy: 0.9053 - val_loss: 0.3268 - val_accuracy: 0.8860\n",
            "Epoch 8/50\n",
            "1500/1500 [==============================] - 9s 6ms/step - loss: 0.2441 - accuracy: 0.9092 - val_loss: 0.3194 - val_accuracy: 0.8857\n",
            "Epoch 9/50\n",
            "1500/1500 [==============================] - 9s 6ms/step - loss: 0.2312 - accuracy: 0.9133 - val_loss: 0.3236 - val_accuracy: 0.8842\n",
            "Epoch 10/50\n",
            "1500/1500 [==============================] - 9s 6ms/step - loss: 0.2225 - accuracy: 0.9167 - val_loss: 0.3135 - val_accuracy: 0.8883\n",
            "Epoch 11/50\n",
            "1500/1500 [==============================] - 9s 6ms/step - loss: 0.2145 - accuracy: 0.9180 - val_loss: 0.3148 - val_accuracy: 0.8919\n",
            "Epoch 12/50\n",
            "1500/1500 [==============================] - 10s 6ms/step - loss: 0.2056 - accuracy: 0.9226 - val_loss: 0.3211 - val_accuracy: 0.8888\n",
            "Epoch 13/50\n",
            "1500/1500 [==============================] - 9s 6ms/step - loss: 0.1981 - accuracy: 0.9260 - val_loss: 0.3229 - val_accuracy: 0.8927\n",
            "Epoch 14/50\n",
            "1500/1500 [==============================] - 9s 6ms/step - loss: 0.1895 - accuracy: 0.9296 - val_loss: 0.3337 - val_accuracy: 0.8895\n",
            "Epoch 15/50\n",
            "1500/1500 [==============================] - 9s 6ms/step - loss: 0.1839 - accuracy: 0.9314 - val_loss: 0.3395 - val_accuracy: 0.8920\n",
            "Epoch 16/50\n",
            "1500/1500 [==============================] - 9s 6ms/step - loss: 0.1773 - accuracy: 0.9333 - val_loss: 0.3331 - val_accuracy: 0.8938\n",
            "Epoch 17/50\n",
            "1500/1500 [==============================] - 9s 6ms/step - loss: 0.1717 - accuracy: 0.9352 - val_loss: 0.3381 - val_accuracy: 0.8941\n",
            "Epoch 18/50\n",
            "1500/1500 [==============================] - 9s 6ms/step - loss: 0.1620 - accuracy: 0.9394 - val_loss: 0.3498 - val_accuracy: 0.8919\n",
            "Epoch 19/50\n",
            "1500/1500 [==============================] - 9s 6ms/step - loss: 0.1601 - accuracy: 0.9394 - val_loss: 0.3447 - val_accuracy: 0.8893\n",
            "Epoch 20/50\n",
            "1500/1500 [==============================] - 9s 6ms/step - loss: 0.1553 - accuracy: 0.9416 - val_loss: 0.3603 - val_accuracy: 0.8923\n",
            "Epoch 21/50\n",
            "1500/1500 [==============================] - 10s 6ms/step - loss: 0.1478 - accuracy: 0.9457 - val_loss: 0.3752 - val_accuracy: 0.8890\n",
            "Epoch 22/50\n",
            "1500/1500 [==============================] - 9s 6ms/step - loss: 0.1449 - accuracy: 0.9458 - val_loss: 0.3613 - val_accuracy: 0.8887\n",
            "Epoch 23/50\n",
            "1500/1500 [==============================] - 9s 6ms/step - loss: 0.1400 - accuracy: 0.9478 - val_loss: 0.3837 - val_accuracy: 0.8860\n",
            "Epoch 24/50\n",
            "1500/1500 [==============================] - 9s 6ms/step - loss: 0.1370 - accuracy: 0.9485 - val_loss: 0.3639 - val_accuracy: 0.8937\n",
            "Epoch 25/50\n",
            "1500/1500 [==============================] - 10s 6ms/step - loss: 0.1338 - accuracy: 0.9485 - val_loss: 0.3730 - val_accuracy: 0.8934\n",
            "Epoch 26/50\n",
            "1500/1500 [==============================] - 9s 6ms/step - loss: 0.1281 - accuracy: 0.9517 - val_loss: 0.3756 - val_accuracy: 0.8931\n",
            "Epoch 27/50\n",
            "1500/1500 [==============================] - 9s 6ms/step - loss: 0.1256 - accuracy: 0.9520 - val_loss: 0.3957 - val_accuracy: 0.8887\n",
            "Epoch 28/50\n",
            "1500/1500 [==============================] - 9s 6ms/step - loss: 0.1223 - accuracy: 0.9539 - val_loss: 0.4022 - val_accuracy: 0.8922\n",
            "Epoch 29/50\n",
            "1500/1500 [==============================] - 9s 6ms/step - loss: 0.1204 - accuracy: 0.9551 - val_loss: 0.3945 - val_accuracy: 0.8933\n",
            "Epoch 30/50\n",
            "1500/1500 [==============================] - 9s 6ms/step - loss: 0.1130 - accuracy: 0.9574 - val_loss: 0.3932 - val_accuracy: 0.8925\n",
            "Epoch 31/50\n",
            "1500/1500 [==============================] - 9s 6ms/step - loss: 0.1142 - accuracy: 0.9552 - val_loss: 0.4192 - val_accuracy: 0.8957\n",
            "Epoch 32/50\n",
            "1500/1500 [==============================] - 9s 6ms/step - loss: 0.1092 - accuracy: 0.9592 - val_loss: 0.4526 - val_accuracy: 0.8920\n",
            "Epoch 33/50\n",
            "1500/1500 [==============================] - 9s 6ms/step - loss: 0.1085 - accuracy: 0.9593 - val_loss: 0.4019 - val_accuracy: 0.8957\n",
            "Epoch 34/50\n",
            "1500/1500 [==============================] - 9s 6ms/step - loss: 0.1066 - accuracy: 0.9598 - val_loss: 0.4765 - val_accuracy: 0.8908\n",
            "Epoch 35/50\n",
            "1500/1500 [==============================] - 10s 7ms/step - loss: 0.1013 - accuracy: 0.9624 - val_loss: 0.4396 - val_accuracy: 0.8904\n",
            "Epoch 36/50\n",
            "1500/1500 [==============================] - 9s 6ms/step - loss: 0.0973 - accuracy: 0.9630 - val_loss: 0.4684 - val_accuracy: 0.8882\n",
            "Epoch 37/50\n",
            "1500/1500 [==============================] - 9s 6ms/step - loss: 0.0967 - accuracy: 0.9639 - val_loss: 0.4447 - val_accuracy: 0.8913\n",
            "Epoch 38/50\n",
            "1500/1500 [==============================] - 9s 6ms/step - loss: 0.0958 - accuracy: 0.9645 - val_loss: 0.4521 - val_accuracy: 0.8930\n",
            "Epoch 39/50\n",
            "1500/1500 [==============================] - 10s 6ms/step - loss: 0.0940 - accuracy: 0.9652 - val_loss: 0.4641 - val_accuracy: 0.8945\n",
            "Epoch 40/50\n",
            "1500/1500 [==============================] - 10s 7ms/step - loss: 0.0881 - accuracy: 0.9661 - val_loss: 0.4666 - val_accuracy: 0.8940\n",
            "Epoch 41/50\n",
            "1500/1500 [==============================] - 9s 6ms/step - loss: 0.0915 - accuracy: 0.9665 - val_loss: 0.5059 - val_accuracy: 0.8928\n",
            "Epoch 42/50\n",
            "1500/1500 [==============================] - 9s 6ms/step - loss: 0.0849 - accuracy: 0.9680 - val_loss: 0.4668 - val_accuracy: 0.8945\n",
            "Epoch 43/50\n",
            "1500/1500 [==============================] - 9s 6ms/step - loss: 0.0840 - accuracy: 0.9683 - val_loss: 0.4843 - val_accuracy: 0.8910\n",
            "Epoch 44/50\n",
            "1500/1500 [==============================] - 9s 6ms/step - loss: 0.0847 - accuracy: 0.9672 - val_loss: 0.5272 - val_accuracy: 0.8857\n",
            "Epoch 45/50\n",
            "1500/1500 [==============================] - 9s 6ms/step - loss: 0.0778 - accuracy: 0.9709 - val_loss: 0.4759 - val_accuracy: 0.8950\n",
            "Epoch 46/50\n",
            "1500/1500 [==============================] - 10s 6ms/step - loss: 0.0795 - accuracy: 0.9695 - val_loss: 0.5153 - val_accuracy: 0.8905\n",
            "Epoch 47/50\n",
            "1500/1500 [==============================] - 9s 6ms/step - loss: 0.0762 - accuracy: 0.9714 - val_loss: 0.4765 - val_accuracy: 0.8962\n",
            "Epoch 48/50\n",
            "1500/1500 [==============================] - 9s 6ms/step - loss: 0.0758 - accuracy: 0.9719 - val_loss: 0.5419 - val_accuracy: 0.8923\n",
            "Epoch 49/50\n",
            "1500/1500 [==============================] - 9s 6ms/step - loss: 0.0774 - accuracy: 0.9706 - val_loss: 0.5513 - val_accuracy: 0.8915\n",
            "Epoch 50/50\n",
            "1500/1500 [==============================] - 10s 6ms/step - loss: 0.0708 - accuracy: 0.9732 - val_loss: 0.5345 - val_accuracy: 0.8945\n",
            "Best epoch: 47\n"
          ],
          "name": "stdout"
        }
      ]
    },
    {
      "cell_type": "code",
      "metadata": {
        "colab": {
          "base_uri": "https://localhost:8080/"
        },
        "id": "yL8MQwYilwHL",
        "outputId": "a03ee4b1-5d23-44cd-fd0b-57f869bbb01a"
      },
      "source": [
        "hypermodel = tuner.hypermodel.build(best_hps)\n",
        "\n",
        "\n",
        "hypermodel.fit(img_train, label_train, epochs=best_epoch, validation_split=0.2)"
      ],
      "execution_count": 139,
      "outputs": [
        {
          "output_type": "stream",
          "text": [
            "Epoch 1/47\n",
            "1500/1500 [==============================] - 10s 6ms/step - loss: 0.4919 - accuracy: 0.8260 - val_loss: 0.3893 - val_accuracy: 0.8583\n",
            "Epoch 2/47\n",
            "1500/1500 [==============================] - 9s 6ms/step - loss: 0.3707 - accuracy: 0.8647 - val_loss: 0.3498 - val_accuracy: 0.8711\n",
            "Epoch 3/47\n",
            "1500/1500 [==============================] - 9s 6ms/step - loss: 0.3324 - accuracy: 0.8788 - val_loss: 0.3613 - val_accuracy: 0.8721\n",
            "Epoch 4/47\n",
            "1500/1500 [==============================] - 9s 6ms/step - loss: 0.3060 - accuracy: 0.8876 - val_loss: 0.3424 - val_accuracy: 0.8753\n",
            "Epoch 5/47\n",
            "1500/1500 [==============================] - 9s 6ms/step - loss: 0.2849 - accuracy: 0.8952 - val_loss: 0.3282 - val_accuracy: 0.8819\n",
            "Epoch 6/47\n",
            "1500/1500 [==============================] - 9s 6ms/step - loss: 0.2703 - accuracy: 0.8997 - val_loss: 0.3465 - val_accuracy: 0.8768\n",
            "Epoch 7/47\n",
            "1500/1500 [==============================] - 9s 6ms/step - loss: 0.2576 - accuracy: 0.9037 - val_loss: 0.3270 - val_accuracy: 0.8842\n",
            "Epoch 8/47\n",
            "1500/1500 [==============================] - 9s 6ms/step - loss: 0.2431 - accuracy: 0.9076 - val_loss: 0.3244 - val_accuracy: 0.8848\n",
            "Epoch 9/47\n",
            "1500/1500 [==============================] - 9s 6ms/step - loss: 0.2348 - accuracy: 0.9106 - val_loss: 0.3250 - val_accuracy: 0.8902\n",
            "Epoch 10/47\n",
            "1500/1500 [==============================] - 9s 6ms/step - loss: 0.2236 - accuracy: 0.9166 - val_loss: 0.3116 - val_accuracy: 0.8908\n",
            "Epoch 11/47\n",
            "1500/1500 [==============================] - 10s 6ms/step - loss: 0.2146 - accuracy: 0.9191 - val_loss: 0.3337 - val_accuracy: 0.8882\n",
            "Epoch 12/47\n",
            "1500/1500 [==============================] - 10s 6ms/step - loss: 0.2036 - accuracy: 0.9232 - val_loss: 0.3308 - val_accuracy: 0.8906\n",
            "Epoch 13/47\n",
            "1500/1500 [==============================] - 9s 6ms/step - loss: 0.2007 - accuracy: 0.9245 - val_loss: 0.3265 - val_accuracy: 0.8933\n",
            "Epoch 14/47\n",
            "1500/1500 [==============================] - 9s 6ms/step - loss: 0.1889 - accuracy: 0.9286 - val_loss: 0.3265 - val_accuracy: 0.8921\n",
            "Epoch 15/47\n",
            "1500/1500 [==============================] - 9s 6ms/step - loss: 0.1852 - accuracy: 0.9310 - val_loss: 0.3368 - val_accuracy: 0.8909\n",
            "Epoch 16/47\n",
            "1500/1500 [==============================] - 9s 6ms/step - loss: 0.1800 - accuracy: 0.9313 - val_loss: 0.3266 - val_accuracy: 0.8942\n",
            "Epoch 17/47\n",
            "1500/1500 [==============================] - 9s 6ms/step - loss: 0.1724 - accuracy: 0.9342 - val_loss: 0.3351 - val_accuracy: 0.8972\n",
            "Epoch 18/47\n",
            "1500/1500 [==============================] - 9s 6ms/step - loss: 0.1655 - accuracy: 0.9378 - val_loss: 0.3378 - val_accuracy: 0.8934\n",
            "Epoch 19/47\n",
            "1500/1500 [==============================] - 9s 6ms/step - loss: 0.1621 - accuracy: 0.9402 - val_loss: 0.3641 - val_accuracy: 0.8885\n",
            "Epoch 20/47\n",
            "1500/1500 [==============================] - 9s 6ms/step - loss: 0.1540 - accuracy: 0.9418 - val_loss: 0.3596 - val_accuracy: 0.8867\n",
            "Epoch 21/47\n",
            "1500/1500 [==============================] - 9s 6ms/step - loss: 0.1509 - accuracy: 0.9435 - val_loss: 0.3697 - val_accuracy: 0.8881\n",
            "Epoch 22/47\n",
            "1500/1500 [==============================] - 9s 6ms/step - loss: 0.1458 - accuracy: 0.9447 - val_loss: 0.3668 - val_accuracy: 0.8928\n",
            "Epoch 23/47\n",
            "1500/1500 [==============================] - 9s 6ms/step - loss: 0.1394 - accuracy: 0.9471 - val_loss: 0.3705 - val_accuracy: 0.8957\n",
            "Epoch 24/47\n",
            "1500/1500 [==============================] - 9s 6ms/step - loss: 0.1371 - accuracy: 0.9491 - val_loss: 0.3784 - val_accuracy: 0.8960\n",
            "Epoch 25/47\n",
            "1500/1500 [==============================] - 10s 6ms/step - loss: 0.1322 - accuracy: 0.9497 - val_loss: 0.3522 - val_accuracy: 0.9019\n",
            "Epoch 26/47\n",
            "1500/1500 [==============================] - 9s 6ms/step - loss: 0.1289 - accuracy: 0.9510 - val_loss: 0.3950 - val_accuracy: 0.8913\n",
            "Epoch 27/47\n",
            "1500/1500 [==============================] - 9s 6ms/step - loss: 0.1253 - accuracy: 0.9513 - val_loss: 0.3828 - val_accuracy: 0.8939\n",
            "Epoch 28/47\n",
            "1500/1500 [==============================] - 9s 6ms/step - loss: 0.1231 - accuracy: 0.9539 - val_loss: 0.3986 - val_accuracy: 0.8958\n",
            "Epoch 29/47\n",
            "1500/1500 [==============================] - 9s 6ms/step - loss: 0.1175 - accuracy: 0.9556 - val_loss: 0.4276 - val_accuracy: 0.8931\n",
            "Epoch 30/47\n",
            "1500/1500 [==============================] - 10s 6ms/step - loss: 0.1136 - accuracy: 0.9573 - val_loss: 0.4456 - val_accuracy: 0.8866\n",
            "Epoch 31/47\n",
            "1500/1500 [==============================] - 9s 6ms/step - loss: 0.1130 - accuracy: 0.9585 - val_loss: 0.4123 - val_accuracy: 0.8942\n",
            "Epoch 32/47\n",
            "1500/1500 [==============================] - 9s 6ms/step - loss: 0.1095 - accuracy: 0.9591 - val_loss: 0.4144 - val_accuracy: 0.8984\n",
            "Epoch 33/47\n",
            "1500/1500 [==============================] - 9s 6ms/step - loss: 0.1073 - accuracy: 0.9594 - val_loss: 0.4168 - val_accuracy: 0.8932\n",
            "Epoch 34/47\n",
            "1500/1500 [==============================] - 10s 6ms/step - loss: 0.1029 - accuracy: 0.9603 - val_loss: 0.4178 - val_accuracy: 0.8923\n",
            "Epoch 35/47\n",
            "1500/1500 [==============================] - 9s 6ms/step - loss: 0.1000 - accuracy: 0.9627 - val_loss: 0.4389 - val_accuracy: 0.8927\n",
            "Epoch 36/47\n",
            "1500/1500 [==============================] - 9s 6ms/step - loss: 0.1005 - accuracy: 0.9618 - val_loss: 0.4336 - val_accuracy: 0.8979\n",
            "Epoch 37/47\n",
            "1500/1500 [==============================] - 10s 6ms/step - loss: 0.0971 - accuracy: 0.9634 - val_loss: 0.4736 - val_accuracy: 0.8955\n",
            "Epoch 38/47\n",
            "1500/1500 [==============================] - 9s 6ms/step - loss: 0.0945 - accuracy: 0.9652 - val_loss: 0.4458 - val_accuracy: 0.9004\n",
            "Epoch 39/47\n",
            "1500/1500 [==============================] - 9s 6ms/step - loss: 0.0942 - accuracy: 0.9650 - val_loss: 0.4582 - val_accuracy: 0.8924\n",
            "Epoch 40/47\n",
            "1500/1500 [==============================] - 9s 6ms/step - loss: 0.0899 - accuracy: 0.9667 - val_loss: 0.4428 - val_accuracy: 0.8977\n",
            "Epoch 41/47\n",
            "1500/1500 [==============================] - 9s 6ms/step - loss: 0.0904 - accuracy: 0.9654 - val_loss: 0.4910 - val_accuracy: 0.8898\n",
            "Epoch 42/47\n",
            "1500/1500 [==============================] - 9s 6ms/step - loss: 0.0831 - accuracy: 0.9683 - val_loss: 0.4914 - val_accuracy: 0.8917\n",
            "Epoch 43/47\n",
            "1500/1500 [==============================] - 9s 6ms/step - loss: 0.0883 - accuracy: 0.9667 - val_loss: 0.4997 - val_accuracy: 0.8917\n",
            "Epoch 44/47\n",
            "1500/1500 [==============================] - 9s 6ms/step - loss: 0.0834 - accuracy: 0.9688 - val_loss: 0.4650 - val_accuracy: 0.8978\n",
            "Epoch 45/47\n",
            "1500/1500 [==============================] - 9s 6ms/step - loss: 0.0800 - accuracy: 0.9700 - val_loss: 0.5075 - val_accuracy: 0.8936\n",
            "Epoch 46/47\n",
            "1500/1500 [==============================] - 9s 6ms/step - loss: 0.0797 - accuracy: 0.9701 - val_loss: 0.4903 - val_accuracy: 0.8950\n",
            "Epoch 47/47\n",
            "1500/1500 [==============================] - 9s 6ms/step - loss: 0.0753 - accuracy: 0.9724 - val_loss: 0.4993 - val_accuracy: 0.8957\n"
          ],
          "name": "stdout"
        },
        {
          "output_type": "execute_result",
          "data": {
            "text/plain": [
              "<tensorflow.python.keras.callbacks.History at 0x7ff8ef533b90>"
            ]
          },
          "metadata": {
            "tags": []
          },
          "execution_count": 139
        }
      ]
    },
    {
      "cell_type": "code",
      "metadata": {
        "colab": {
          "base_uri": "https://localhost:8080/"
        },
        "id": "Xjo4G53DlzA3",
        "outputId": "5e7631c4-3a94-49b7-eab4-2cd75bba5fa0"
      },
      "source": [
        "eval_result = hypermodel.evaluate(img_test, label_test)\n",
        "print(\"[test loss, test accuracy]:\", eval_result)"
      ],
      "execution_count": 140,
      "outputs": [
        {
          "output_type": "stream",
          "text": [
            "313/313 [==============================] - 1s 4ms/step - loss: 0.5653 - accuracy: 0.8906\n",
            "[test loss, test accuracy]: [0.5653303861618042, 0.8906000256538391]\n"
          ],
          "name": "stdout"
        }
      ]
    }
  ]
}